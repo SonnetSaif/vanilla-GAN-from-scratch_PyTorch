{
  "nbformat": 4,
  "nbformat_minor": 0,
  "metadata": {
    "colab": {
      "provenance": [],
      "authorship_tag": "ABX9TyNgCBGvUTo+PxsG35dlooSB",
      "include_colab_link": true
    },
    "kernelspec": {
      "name": "python3",
      "display_name": "Python 3"
    },
    "language_info": {
      "name": "python"
    }
  },
  "cells": [
    {
      "cell_type": "markdown",
      "metadata": {
        "id": "view-in-github",
        "colab_type": "text"
      },
      "source": [
        "<a href=\"https://colab.research.google.com/github/SonnetSaif/vanilla-GAN-from-scratch_PyTorch/blob/main/vanilla_GAN_PyTorch.ipynb\" target=\"_parent\"><img src=\"https://colab.research.google.com/assets/colab-badge.svg\" alt=\"Open In Colab\"/></a>"
      ]
    },
    {
      "cell_type": "code",
      "source": [
        "import torch\n",
        "import torchvision\n",
        "import torch.nn as nn\n",
        "import torch.optim as optim\n",
        "import torchvision.datasets as datasets\n",
        "from torch.utils.data import DataLoader\n",
        "import torchvision.transforms as transforms\n",
        "from torch.utils.tensorboard import SummaryWriter"
      ],
      "metadata": {
        "id": "GA3OpGTID_C4"
      },
      "execution_count": null,
      "outputs": []
    },
    {
      "cell_type": "code",
      "source": [
        "device = \"cuda\" if torch.cuda.is_available() else \"cpu\"\n",
        "lr = 3e-4   # 3e-4 is best for adam\n",
        "z_dim = 64\n",
        "img_dim = 18 *28 * 1\n",
        "batch_size = 32\n",
        "num_epochs = 50"
      ],
      "metadata": {
        "id": "4ry78IyIBYw0"
      },
      "execution_count": null,
      "outputs": []
    },
    {
      "cell_type": "code",
      "execution_count": null,
      "metadata": {
        "id": "vgh_jaQMC8rV"
      },
      "outputs": [],
      "source": [
        "class Generator(nn.Module):\n",
        "  def __init__(self, z_dim, img_dim):\n",
        "    super().__init__()\n",
        "    self.gen = nn.Sequential(\n",
        "      nn.Linear(z_dim, 256),\n",
        "      nn.LeakyReLU(0.1),\n",
        "      nn.Linear(256, img_dim),\n",
        "      nn.Tanh()\n",
        "    )\n",
        "\n",
        "  def forward(self, x):\n",
        "    return self.gen(x)"
      ]
    },
    {
      "cell_type": "code",
      "source": [
        "class Discriminator(nn.Module):\n",
        "  def __init__(self, img_dim):\n",
        "    super().__init__()\n",
        "    self.disc = nn.Sequential(\n",
        "      nn.Linear(z_dim, 256),\n",
        "      nn.LeakyReLU(0.1),\n",
        "      nn.Linear(256, img_dim),\n",
        "      nn.Sigmoid()\n",
        "    )\n",
        "\n",
        "  def forward(self, x):\n",
        "    return self.disc(x)"
      ],
      "metadata": {
        "id": "FRg0onnqG4Gr"
      },
      "execution_count": null,
      "outputs": []
    },
    {
      "cell_type": "code",
      "source": [
        "gen = Generator(z_dim, img_dim).to(device)\n",
        "disc = Discriminator(img_dim).to(device)\n",
        "transforms = transforms.Compose([\n",
        "    transforms.ToTensor(),\n",
        "    transforms.Normalize((0.5, ), (0.5, ))\n",
        "])\n",
        "dataset = datasets.MNIST(root='dataset/', transform=transforms, download=True)\n",
        "loader = DataLoader(dataset, batch_size=batch_size, shuffle=True)\n",
        "optim_gen = optim.Adam(gen.parameters(), lr=lr)\n",
        "optim_disc = optim.Adam(disc.parameters(), lr=lr)\n",
        "criterion = nn.BCELoss()"
      ],
      "metadata": {
        "id": "XdJ7IppEK-b-"
      },
      "execution_count": null,
      "outputs": []
    },
    {
      "cell_type": "code",
      "source": [
        "# Tensorboard\n",
        "summaryWriter_fake = SummaryWriter(f\"GAN-MNIST/fake\")\n",
        "summaryWriter_real = SummaryWriter(f\"GAN-MNIST/real\")\n",
        "step = 0"
      ],
      "metadata": {
        "id": "3zvp3kUOIlTu"
      },
      "execution_count": null,
      "outputs": []
    },
    {
      "cell_type": "code",
      "source": [
        "for epoch in range(num_epochs):\n",
        "  for batch_idx, (real, _) in enumerate(loader):\n",
        "    real_img = real.view(-1, 784).to(device)\n",
        "    batch_size = real.shape[0]\n",
        "\n",
        "    noise = torch.randn(batch_size, z_dim).to(device)\n",
        "    fake_img = gen(noise)\n",
        "    disc_real = disc(real_img).view(-1)\n",
        "    loss_disc_real = criterion(disc_real, torch.ones_like(disc_real))\n",
        "    disc_fake = disc(fake_img).view(-1)\n",
        "    loss_disc_fake = criterion(disc_fake, torch.ones_like(disc_fake))\n",
        "    loss_disc_total = (loss_disc_real + loss_disc_fake) / 2\n",
        "    disc.zero_grad()\n",
        "    loss_disc_total.backward()\n",
        "    optim_disc.step()"
      ],
      "metadata": {
        "id": "wsngKaXyL7SN"
      },
      "execution_count": null,
      "outputs": []
    }
  ]
}